{
  "nbformat": 4,
  "nbformat_minor": 0,
  "metadata": {
    "colab": {
      "name": "Funcion incremental.ipynb",
      "provenance": [],
      "authorship_tag": "ABX9TyNylyG4G5DE5UvZei7nPje6",
      "include_colab_link": true
    },
    "kernelspec": {
      "name": "python3",
      "display_name": "Python 3"
    }
  },
  "cells": [
    {
      "cell_type": "markdown",
      "metadata": {
        "id": "view-in-github",
        "colab_type": "text"
      },
      "source": [
        "<a href=\"https://colab.research.google.com/github/alulec/metodosNumericos/blob/main/Funcion_incremental.ipynb\" target=\"_parent\"><img src=\"https://colab.research.google.com/assets/colab-badge.svg\" alt=\"Open In Colab\"/></a>"
      ]
    },
    {
      "cell_type": "code",
      "metadata": {
        "id": "djThOof4ytKU"
      },
      "source": [
        "import numpy as np\r\n",
        "\r\n",
        "def function(x):\r\n",
        "    return x**2 #np.e**x -8"
      ],
      "execution_count": 54,
      "outputs": []
    },
    {
      "cell_type": "code",
      "metadata": {
        "id": "vHbj9epM1Qii"
      },
      "source": [
        "def MetIncremental(a, b):\r\n",
        "    rang = [a,b]\r\n",
        "    pasos = [1, 0.01, 0.001, 0.0001, 0.00001, 0.000001, 0.0000001, 0.00000001]\r\n",
        "    if function(a) < 0:\r\n",
        "        for i in range(8):\r\n",
        "            res = -1\r\n",
        "            dx = pasos[i]\r\n",
        "            a = rang[0]\r\n",
        "            while res < 0:           \r\n",
        "                res = function(a)\r\n",
        "                a += dx\r\n",
        "            rang = [a- 2*dx, a-dx]\r\n",
        "        return rang\r\n",
        "    elif function(a) > 0:\r\n",
        "        for i in range(8):\r\n",
        "            res = 1\r\n",
        "            dx = pasos[i]\r\n",
        "            a = rang[0]\r\n",
        "            while res > 0:           \r\n",
        "                res = function(a)\r\n",
        "                a += dx\r\n",
        "            rang = [a- 2*dx, a-dx]\r\n",
        "        return rang\r\n",
        "    else:\r\n",
        "        print(a , \"Es una raiz\")"
      ],
      "execution_count": 56,
      "outputs": []
    },
    {
      "cell_type": "code",
      "metadata": {
        "colab": {
          "base_uri": "https://localhost:8080/"
        },
        "id": "VTbeQvC001_i",
        "outputId": "c3d56e6c-f1d5-4b81-d1f3-48d7111f3b6d"
      },
      "source": [
        "MetIncremental(0, 10)"
      ],
      "execution_count": 57,
      "outputs": [
        {
          "output_type": "stream",
          "text": [
            "0 Es una raiz\n"
          ],
          "name": "stdout"
        }
      ]
    }
  ]
}