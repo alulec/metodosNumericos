{
  "nbformat": 4,
  "nbformat_minor": 0,
  "metadata": {
    "colab": {
      "name": "Metodo de Newton Raphson.ipynb",
      "provenance": [],
      "authorship_tag": "ABX9TyOohHp0vLPoNVQsriZwQgdD",
      "include_colab_link": true
    },
    "kernelspec": {
      "name": "python3",
      "display_name": "Python 3"
    }
  },
  "cells": [
    {
      "cell_type": "markdown",
      "metadata": {
        "id": "view-in-github",
        "colab_type": "text"
      },
      "source": [
        "<a href=\"https://colab.research.google.com/github/alulec/metodosNumericos/blob/main/Metodo_de_Newton_Raphson.ipynb\" target=\"_parent\"><img src=\"https://colab.research.google.com/assets/colab-badge.svg\" alt=\"Open In Colab\"/></a>"
      ]
    },
    {
      "cell_type": "code",
      "metadata": {
        "id": "RRwIocIIxqnP"
      },
      "source": [
        "import numpy as np \r\n",
        "def fx(x): # f de x \r\n",
        "    return x**5 + x**4 - 20*x**3 - 2*x**2 + 64*x - 1\r\n",
        "\r\n",
        "def fpx(x): # f prima de x\r\n",
        "    return 5*x**4 + 4*x**3 - 60*x**2 - 4*x + 64\r\n"
      ],
      "execution_count": 52,
      "outputs": []
    },
    {
      "cell_type": "code",
      "metadata": {
        "id": "WzuonqUisT9R"
      },
      "source": [
        "def fe(x):\r\n",
        "    return np.e**x -8\r\n",
        "def fpe(x):\r\n",
        "    return np.e**x"
      ],
      "execution_count": 65,
      "outputs": []
    },
    {
      "cell_type": "code",
      "metadata": {
        "colab": {
          "base_uri": "https://localhost:8080/"
        },
        "id": "Cy85lxNNg8P0",
        "outputId": "aecd6111-2e94-4f52-ecb6-b10d66810d35"
      },
      "source": [
        "ep = 0.0001 # valor aceptable de error\r\n",
        "a = 2\r\n",
        "dx =10\r\n",
        "while ep < dx:\r\n",
        "    dx = -(fe(a)/fpe(a))\r\n",
        "    a += dx\r\n",
        "print(\"La raiz mas proxima es: \", a)"
      ],
      "execution_count": 72,
      "outputs": [
        {
          "output_type": "stream",
          "text": [
            "La raiz mas proxima es:  2.079446787158635\n"
          ],
          "name": "stdout"
        }
      ]
    }
  ]
}