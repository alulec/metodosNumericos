{
  "nbformat": 4,
  "nbformat_minor": 0,
  "metadata": {
    "colab": {
      "name": "MetodoBusquedaIncremental.ipynb",
      "provenance": [],
      "authorship_tag": "ABX9TyPObAFpFHVI2bNgh6hZk2XM",
      "include_colab_link": true
    },
    "kernelspec": {
      "name": "python3",
      "display_name": "Python 3"
    }
  },
  "cells": [
    {
      "cell_type": "markdown",
      "metadata": {
        "id": "view-in-github",
        "colab_type": "text"
      },
      "source": [
        "<a href=\"https://colab.research.google.com/github/alulec/metodosNumericos/blob/main/MetodoBusquedaIncremental.ipynb\" target=\"_parent\"><img src=\"https://colab.research.google.com/assets/colab-badge.svg\" alt=\"Open In Colab\"/></a>"
      ]
    },
    {
      "cell_type": "code",
      "metadata": {
        "id": "s4zCF5oWf9TC",
        "outputId": "805d1c73-e64c-4d46-cb41-3d2e8cf35476",
        "colab": {
          "base_uri": "https://localhost:8080/",
          "height": 371
        }
      },
      "source": [
        "import numpy as np\n",
        "import matplotlib.pyplot as plt\n",
        "\n",
        "x = np.arange(-10, 10, 0.01)\n",
        "y = (x**3) + (1.71*(x**2)) - (26.21*x) - 44.82\n",
        "\n",
        "plt.figure(figsize= (14,8))\n",
        "plt.plot(x, y)\n",
        "\n",
        "plt.axhline(0, color= 'red')\n",
        "plt.axvline(0, color= 'green')\n",
        "\n",
        "plt.show()"
      ],
      "execution_count": 5,
      "outputs": [
        {
          "output_type": "display_data",
          "data": {
            "image/png": "[encoded data removed]",
            "text/plain": [
              "<Figure size 1008x576 with 1 Axes>"
            ]
          },
          "metadata": {
            "tags": [],
            "needs_background": "light"
          }
        }
      ]
    },
    {
      "cell_type": "code",
      "metadata": {
        "id": "AFa4OvfonMT9",
        "outputId": "827f8578-46be-4b07-e538-f82294457d18",
        "colab": {
          "base_uri": "https://localhost:8080/",
          "height": 187
        }
      },
      "source": [
        "def function(x):\n",
        "    return (x**3) + (1.71*(x**2)) - (26.21*x) - 44.82\n",
        "\n",
        "delta_x = 0.2\n",
        "start = 4.0\n",
        "end = 6.1\n",
        "\n",
        "x1 = start \n",
        "x2 = start + delta_x\n",
        "\n",
        "while (x2 <= end):\n",
        "    print(round(x1, 4), round(x2,4))\n",
        "    x1 += delta_x\n",
        "    x2 += delta_x\n"
      ],
      "execution_count": 9,
      "outputs": [
        {
          "output_type": "stream",
          "text": [
            "4.0 4.2\n",
            "4.2 4.4\n",
            "4.4 4.6\n",
            "4.6 4.8\n",
            "4.8 5.0\n",
            "5.0 5.2\n",
            "5.2 5.4\n",
            "5.4 5.6\n",
            "5.6 5.8\n",
            "5.8 6.0\n"
          ],
          "name": "stdout"
        }
      ]
    },
    {
      "cell_type": "code",
      "metadata": {
        "id": "pMLWLi__pGIT",
        "outputId": "ee6c267a-2c69-45e2-8b9f-0959acf1935a",
        "colab": {
          "base_uri": "https://localhost:8080/",
          "height": 187
        }
      },
      "source": [
        " def function(x):\n",
        "    return (x**3) + (1.71*(x**2)) - (26.21*x) - 44.82\n",
        "\n",
        "delta_x = 0.2\n",
        "start = 4.0\n",
        "end = 6.1\n",
        "\n",
        "x1 = start \n",
        "x2 = start + delta_x\n",
        "\n",
        "while (x2 <= end):\n",
        "    print(\"Intervalo: \", round(x1, 4), round(x2,4), end=\" \")\n",
        "    \n",
        "    f1 = round(function(x1))\n",
        "    f2 = round(function(x2))\n",
        "    print(\"f(x) en los extremos: \", f1, \" \", f2, end=\" \")\n",
        "\n",
        "    if ( f1*f2 <= 0):\n",
        "        print(\"Hubo cambio de signo!  (｡◕‿◕｡)\")\n",
        "\n",
        "    else:\n",
        "        print(\"No hubo cambio de signo\")\n",
        "    \n",
        "    x1 += delta_x\n",
        "    x2 += delta_x "
      ],
      "execution_count": 15,
      "outputs": [
        {
          "output_type": "stream",
          "text": [
            "Intervalo:  4.0 4.2 f(x) en los extremos:  -58   -51 No hubo cambio de signo\n",
            "Intervalo:  4.2 4.4 f(x) en los extremos:  -51   -42 No hubo cambio de signo\n",
            "Intervalo:  4.4 4.6 f(x) en los extremos:  -42   -32 No hubo cambio de signo\n",
            "Intervalo:  4.6 4.8 f(x) en los extremos:  -32   -21 No hubo cambio de signo\n",
            "Intervalo:  4.8 5.0 f(x) en los extremos:  -21   -8 No hubo cambio de signo\n",
            "Intervalo:  5.0 5.2 f(x) en los extremos:  -8   6 Hubo cambio de signo!  (｡◕‿◕｡)\n",
            "Intervalo:  5.2 5.4 f(x) en los extremos:  6   21 No hubo cambio de signo\n",
            "Intervalo:  5.4 5.6 f(x) en los extremos:  21   38 No hubo cambio de signo\n",
            "Intervalo:  5.6 5.8 f(x) en los extremos:  38   56 No hubo cambio de signo\n",
            "Intervalo:  5.8 6.0 f(x) en los extremos:  56   75 No hubo cambio de signo\n"
          ],
          "name": "stdout"
        }
      ]
    },
    {
      "cell_type": "code",
      "metadata": {
        "id": "oZ4Seofbucbm",
        "outputId": "4ef6066b-38cb-4e07-d311-b4d8d7fc75ac",
        "colab": {
          "base_uri": "https://localhost:8080/",
          "height": 136
        }
      },
      "source": [
        "def function(x):\n",
        "    return (x**3) + (1.71*(x**2)) - (26.21*x) - 44.82\n",
        "\n",
        "def incremental_search_method(start, end, delta_x):\n",
        "    x1 = start \n",
        "    x2 = start + delta_x\n",
        "\n",
        "    while (x2 <= end):\n",
        "        print(\"Intervalo: \", round(x1, 4), round(x2,4), end=\" \")\n",
        "    \n",
        "        f1 = round(function(x1))\n",
        "        f2 = round(function(x2))\n",
        "        print(\"f(x) en los extremos: \", f1, \" \", f2, end=\" \")\n",
        "\n",
        "        if ( f1*f2 <= 0):\n",
        "            print(\"Hubo cambio de signo!  (｡◕‿◕｡)\")\n",
        "            return x1, x2\n",
        "        else:\n",
        "            print(\"No hubo cambio de signo\")\n",
        "    \n",
        "        x1 += delta_x\n",
        "        x2 += delta_x \n",
        "    return 0, 0\n",
        "a, b = incremental_search_method(4.0, 6.1, 0.2)\n",
        "print(\"La raiz esta en el intervalo: (\", round(a, 4),\",\", round(b, 4),\")\")\n"
      ],
      "execution_count": 22,
      "outputs": [
        {
          "output_type": "stream",
          "text": [
            "Intervalo:  4.0 4.2 f(x) en los extremos:  -58   -51 No hubo cambio de signo\n",
            "Intervalo:  4.2 4.4 f(x) en los extremos:  -51   -42 No hubo cambio de signo\n",
            "Intervalo:  4.4 4.6 f(x) en los extremos:  -42   -32 No hubo cambio de signo\n",
            "Intervalo:  4.6 4.8 f(x) en los extremos:  -32   -21 No hubo cambio de signo\n",
            "Intervalo:  4.8 5.0 f(x) en los extremos:  -21   -8 No hubo cambio de signo\n",
            "Intervalo:  5.0 5.2 f(x) en los extremos:  -8   6 Hubo cambio de signo!  (｡◕‿◕｡)\n",
            "La raiz esta en el intervalo: ( 5.0 , 5.2 )\n"
          ],
          "name": "stdout"
        }
      ]
    },
    {
      "cell_type": "code",
      "metadata": {
        "id": "D7l1WJaxxCgL",
        "outputId": "330339ef-7452-4891-8e04-cdeebfbbad3d",
        "colab": {
          "base_uri": "https://localhost:8080/",
          "height": 34
        }
      },
      "source": [
        "def function(x):\n",
        "    return (x**3) + (1.71*(x**2)) - (26.21*x) - 44.82\n",
        "\n",
        "def incremental_search_method(start, end, delta_x):\n",
        "    x1 = start \n",
        "    x2 = start + delta_x\n",
        "\n",
        "    while (x2 <= end):\n",
        "        f1 = round(function(x1))\n",
        "        f2 = round(function(x2))\n",
        "\n",
        "        if ( f1*f2 <= 0):\n",
        "            return x1, x2\n",
        "    \n",
        "        x1 += delta_x\n",
        "        x2 += delta_x \n",
        "    return 0, 0\n",
        "a, b = incremental_search_method(4.0, 6.1, 0.2)\n",
        "print(\"La raiz esta en el intervalo: (\", round(a, 4),\",\", round(b, 4),\")\")\n"
      ],
      "execution_count": 23,
      "outputs": [
        {
          "output_type": "stream",
          "text": [
            "La raiz esta en el intervalo: ( 5.0 , 5.2 )\n"
          ],
          "name": "stdout"
        }
      ]
    },
    {
      "cell_type": "code",
      "metadata": {
        "id": "XKWwXoB_yAJJ",
        "outputId": "dfbe8cbb-811a-4321-becb-bb41188e0b35",
        "colab": {
          "base_uri": "https://localhost:8080/",
          "height": 34
        }
      },
      "source": [
        "a, b = incremental_search_method(4.0, 6.1, 0.05)\n",
        "print(\"La raiz esta en el intervalo: (\", round(a, 4),\",\", round(b, 4),\")\")\n"
      ],
      "execution_count": 28,
      "outputs": [
        {
          "output_type": "stream",
          "text": [
            "La raiz esta en el intervalo: ( 5.1 , 5.15 )\n"
          ],
          "name": "stdout"
        }
      ]
    },
    {
      "cell_type": "code",
      "metadata": {
        "id": "aZQHvUwyyFwN",
        "outputId": "02f82fe3-ca14-4312-a429-672a91bb729b",
        "colab": {
          "base_uri": "https://localhost:8080/",
          "height": 34
        }
      },
      "source": [
        "a, b = incremental_search_method(-5.5, -4.5, 0.02)\n",
        "print(\"La raiz esta en el intervalo: (\", round(a, 4),\",\", round(b, 4),\")\")\n"
      ],
      "execution_count": 31,
      "outputs": [
        {
          "output_type": "stream",
          "text": [
            "La raiz esta en el intervalo: ( -5.14 , -5.12 )\n"
          ],
          "name": "stdout"
        }
      ]
    },
    {
      "cell_type": "code",
      "metadata": {
        "id": "VXpqcPVoyG-O",
        "outputId": "f1e085ed-b8a5-4699-ad8a-b5c8e5d63340",
        "colab": {
          "base_uri": "https://localhost:8080/",
          "height": 34
        }
      },
      "source": [
        "a, b = incremental_search_method(-2.5, 0, 0.02)\n",
        "print(\"La raiz esta en el intervalo: (\", round(a, 4),\",\", round(b, 4),\")\")\n"
      ],
      "execution_count": 32,
      "outputs": [
        {
          "output_type": "stream",
          "text": [
            "La raiz esta en el intervalo: ( -1.74 , -1.72 )\n"
          ],
          "name": "stdout"
        }
      ]
    }
  ]
}