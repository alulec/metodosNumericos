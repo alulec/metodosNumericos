{
  "nbformat": 4,
  "nbformat_minor": 0,
  "metadata": {
    "colab": {
      "name": "Funcion Biseccion.ipynb",
      "provenance": [],
      "authorship_tag": "ABX9TyPb8bELI4y2dNyLcGdjXaYK",
      "include_colab_link": true
    },
    "kernelspec": {
      "name": "python3",
      "display_name": "Python 3"
    }
  },
  "cells": [
    {
      "cell_type": "markdown",
      "metadata": {
        "id": "view-in-github",
        "colab_type": "text"
      },
      "source": [
        "<a href=\"https://colab.research.google.com/github/alulec/metodosNumericos/blob/main/Funcion_Biseccion.ipynb\" target=\"_parent\"><img src=\"https://colab.research.google.com/assets/colab-badge.svg\" alt=\"Open In Colab\"/></a>"
      ]
    },
    {
      "cell_type": "code",
      "metadata": {
        "id": "dSiurbMtZZ3R"
      },
      "source": [
        "import numpy as np\r\n",
        "\r\n",
        "def fx(x):\r\n",
        "    return np.e**x -8\r\n",
        "\r\n",
        "def fw(w):\r\n",
        "    return w**3 -45*w**2 +65\r\n",
        "\r\n",
        "def fz(z):\r\n",
        "    return z**4 -6*z"
      ],
      "execution_count": 5,
      "outputs": []
    },
    {
      "cell_type": "code",
      "metadata": {
        "id": "oyQiJxmw8ZBg"
      },
      "source": [
        "a = 1\r\n",
        "b = 5\r\n",
        "epsilon = 0.00000001\r\n"
      ],
      "execution_count": 19,
      "outputs": []
    },
    {
      "cell_type": "code",
      "metadata": {
        "colab": {
          "base_uri": "https://localhost:8080/"
        },
        "id": "_tjZbIpnEYaK",
        "outputId": "5bee77e2-0ca7-4de2-cbbf-37dce1689385"
      },
      "source": [
        "rang = [a, b]\r\n",
        "m = (a + b)/2\r\n",
        "ep = epsilon\r\n",
        "\r\n",
        "while abs(fx(m)) > ep:\r\n",
        "    fa = fx(rang[0])\r\n",
        "    fm = fx(m)\r\n",
        "    fb = fx(rang[1])\r\n",
        "    if fa*fm < 0:\r\n",
        "        rang = [rang[0], m]\r\n",
        "    if fm*fb < 0:\r\n",
        "        rang = [m, rang[1]]\r\n",
        "    m = (rang[0] + rang[1])/2\r\n",
        "print(m)"
      ],
      "execution_count": 20,
      "outputs": [
        {
          "output_type": "stream",
          "text": [
            "2.0794415418058634\n"
          ],
          "name": "stdout"
        }
      ]
    },
    {
      "cell_type": "code",
      "metadata": {
        "colab": {
          "base_uri": "https://localhost:8080/"
        },
        "id": "FgAkM3MtMa-t",
        "outputId": "4e9aad77-b67b-474b-ea40-22b4e16035f0"
      },
      "source": [
        "rang = [a, b]\r\n",
        "m = (a + b)/2\r\n",
        "ep = epsilon\r\n",
        "\r\n",
        "while abs(fw(m)) > ep:\r\n",
        "    fa = fw(rang[0])\r\n",
        "    fm = fw(m)\r\n",
        "    fb = fw(rang[1])\r\n",
        "    if fa*fm < 0:\r\n",
        "        rang = [rang[0], m]\r\n",
        "    if fm*fb < 0:\r\n",
        "        rang = [m, rang[1]]\r\n",
        "    m = (rang[0] + rang[1])/2\r\n",
        "print(m)"
      ],
      "execution_count": 22,
      "outputs": [
        {
          "output_type": "stream",
          "text": [
            "1.2184596725273877\n"
          ],
          "name": "stdout"
        }
      ]
    },
    {
      "cell_type": "code",
      "metadata": {
        "colab": {
          "base_uri": "https://localhost:8080/"
        },
        "id": "eQhhnVWdMbXb",
        "outputId": "ff639fbb-ac43-4233-8fb1-1f321d3c1700"
      },
      "source": [
        "rang = [a, b]\r\n",
        "m = (a + b)/2\r\n",
        "ep = epsilon\r\n",
        "\r\n",
        "while abs(fz(m)) > ep:\r\n",
        "    fa = fz(rang[0])\r\n",
        "    fm = fz(m)\r\n",
        "    fb = fz(rang[1])\r\n",
        "    if fa*fm < 0:\r\n",
        "        rang = [rang[0], m]\r\n",
        "    if fm*fb < 0:\r\n",
        "        rang = [m, rang[1]]\r\n",
        "    m = (rang[0] + rang[1])/2\r\n",
        "print(m)"
      ],
      "execution_count": 21,
      "outputs": [
        {
          "output_type": "stream",
          "text": [
            "1.8171205930411816\n"
          ],
          "name": "stdout"
        }
      ]
    }
  ]
}