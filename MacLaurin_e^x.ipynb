{
  "nbformat": 4,
  "nbformat_minor": 0,
  "metadata": {
    "colab": {
      "name": "MacLaurin_e^x.ipynb",
      "provenance": [],
      "authorship_tag": "ABX9TyPy9B5Ln/CTP/Imj34U1NoB",
      "include_colab_link": true
    },
    "kernelspec": {
      "name": "python3",
      "display_name": "Python 3"
    }
  },
  "cells": [
    {
      "cell_type": "markdown",
      "metadata": {
        "id": "view-in-github",
        "colab_type": "text"
      },
      "source": [
        "<a href=\"https://colab.research.google.com/github/alulec/metodosNumericos/blob/main/MacLaurin_e%5Ex.ipynb\" target=\"_parent\"><img src=\"https://colab.research.google.com/assets/colab-badge.svg\" alt=\"Open In Colab\"/></a>"
      ]
    },
    {
      "cell_type": "code",
      "metadata": {
        "id": "DqZ1lNLIsNKW"
      },
      "source": [
        "def factorial(n): # n: Numero a cacular el factorial\r\n",
        "    if n > 0:\r\n",
        "        return n * factorial(n-1)\r\n",
        "    else:\r\n",
        "        return 1\r\n",
        "\r\n",
        "def mac_Laurin_ex(x, n): # x: unto a evaluar, n: grado de polinomio deseado\r\n",
        "    if n >= 0:\r\n",
        "        return (x**n)/factorial(n) + mac_Laurin_ex(x, n-1)\r\n",
        "    else:\r\n",
        "        return 0"
      ],
      "execution_count": 14,
      "outputs": []
    },
    {
      "cell_type": "code",
      "metadata": {
        "colab": {
          "base_uri": "https://localhost:8080/"
        },
        "id": "JwUgdIbyuL5O",
        "outputId": "4fc56b6b-81cb-4f31-c6dd-aaca5fc1d2f4"
      },
      "source": [
        "factorial(0)\r\n",
        "mac_Laurin_ex(2,8)"
      ],
      "execution_count": 15,
      "outputs": [
        {
          "output_type": "execute_result",
          "data": {
            "text/plain": [
              "7.387301587301587"
            ]
          },
          "metadata": {
            "tags": []
          },
          "execution_count": 15
        }
      ]
    }
  ]
}